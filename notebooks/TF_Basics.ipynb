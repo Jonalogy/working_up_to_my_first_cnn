{
 "metadata": {
  "language_info": {
   "codemirror_mode": {
    "name": "ipython",
    "version": 3
   },
   "file_extension": ".py",
   "mimetype": "text/x-python",
   "name": "python",
   "nbconvert_exporter": "python",
   "pygments_lexer": "ipython3",
   "version": 3
  },
  "orig_nbformat": 2,
  "kernelspec": {
   "name": "python_defaultSpec_1597156867766",
   "display_name": "Python 3.8.5 64-bit"
  }
 },
 "nbformat": 4,
 "nbformat_minor": 2,
 "cells": [
  {
   "cell_type": "code",
   "execution_count": 16,
   "metadata": {
    "tags": []
   },
   "outputs": [],
   "source": [
    "import tensorflow as tf\n",
    "# One can check tensorflow's version with print(tf.version)"
   ]
  },
  {
   "cell_type": "code",
   "execution_count": 17,
   "metadata": {
    "tags": []
   },
   "outputs": [
    {
     "output_type": "stream",
     "name": "stdout",
     "text": "Rank-0 Tensor: [1.]\nRank-1 Tensor: [1. 1.]\nRank-3 Tensor [[[1. 1.]\n  [1. 1.]]\n\n [[1. 1.]\n  [1. 1.]]]\n"
    }
   ],
   "source": [
    "# 0D Tensor (Literally a scalar value)\n",
    "d0 = tf.ones((1,))\n",
    "print(\"Rank-0 Tensor:\", d0.numpy())\n",
    "\n",
    "# 1D Tensor (Aka. Vector)\n",
    "d1 = tf.ones((2,))\n",
    "print(\"Rank-1 Tensor:\", d1.numpy())\n",
    "\n",
    "#3D Tensor\n",
    "d3 = tf.ones((2,2,2))\n",
    "print(\"Rank-3 Tensor\", d3.numpy())"
   ]
  },
  {
   "cell_type": "markdown",
   "metadata": {},
   "source": [
    "A constant is the simplest category of a Tensor\n",
    "* Not trainable \n",
    "* Can have any dimension"
   ]
  },
  {
   "cell_type": "code",
   "execution_count": 18,
   "metadata": {
    "tags": []
   },
   "outputs": [
    {
     "output_type": "stream",
     "name": "stdout",
     "text": "[[3 3 3]\n [3 3 3]]\nA Rank-2 Tensor as a constant: [[1 2]\n [3 4]]\n"
    }
   ],
   "source": [
    "from tensorflow import constant\n",
    "\n",
    "# To define a 2x3 constant\n",
    "a = constant(3, shape=[2,3])\n",
    "print(a.numpy())\n",
    "\n",
    "# To define a 2x2 constant\n",
    "b = tf.constant([1,2,3,4], shape=[2,2])\n",
    "print(\"A Rank-2 Tensor as a constant:\", b.numpy())"
   ]
  },
  {
   "cell_type": "code",
   "execution_count": 19,
   "metadata": {
    "tags": []
   },
   "outputs": [
    {
     "output_type": "stream",
     "name": "stdout",
     "text": "[[2.]\n [2.]\n [2.]]\n[[2. 2. 2.]\n [2. 2. 2.]\n [2. 2. 2.]]\n"
    }
   ],
   "source": [
    "# Multiplication\n",
    "from tensorflow import ones, matmul, multiply\n",
    "\n",
    "#Defining Tensors\n",
    "A0  = ones(1)#; print(A0.numpy())\n",
    "A31 = ones([3,1])#; print(A31)\n",
    "A31_twos_col = constant(2, dtype=1, shape=[3,1])#; print(A31_twos) \n",
    "A31_twos_row = constant(2, dtype=1, shape=[1,3])#; print(A31_twos) \n",
    "\n",
    "\n",
    "print(multiply(A31, A31_twos_col).numpy())\n",
    "print(matmul(A31, A31_twos_row).numpy())"
   ]
  },
  {
   "cell_type": "code",
   "execution_count": 20,
   "metadata": {
    "tags": []
   },
   "outputs": [
    {
     "output_type": "stream",
     "name": "stdout",
     "text": "[[1 2]\n [3 4]]\ntf.Tensor([4 6], shape=(2,), dtype=int32)\ntf.Tensor([3 7], shape=(2,), dtype=int32)\n[[[1. 1. 1. 1.]\n  [1. 1. 1. 1.]\n  [1. 1. 1. 1.]]\n\n [[1. 1. 1. 1.]\n  [1. 1. 1. 1.]\n  [1. 1. 1. 1.]]]\nReducing on all dimensions:  24.0\nReducing on dimension 0 (rows): [[2. 2. 2. 2.]\n [2. 2. 2. 2.]\n [2. 2. 2. 2.]] (3, 4)\n"
    }
   ],
   "source": [
    "# Reduce sum\n",
    "from tensorflow import reduce_sum\n",
    "\n",
    "# Defining a 2D matrix\n",
    "A = tf.Variable([[1,2], [3,4]], shape=(2,2))\n",
    "print(A.numpy())\n",
    "print(reduce_sum(A, 0)) # [1,2] + [3,4] = [4, 6]\n",
    "print(reduce_sum(A, 1)) # [1,3] + [2,4] = [3, 7]\n",
    "\n",
    "# Defining a 2x3x4 tensor of ones\n",
    "A = ones([2,3,4])\n",
    "print(A.numpy())\n",
    "\n",
    "print(\"Reducing on all dimensions: \", reduce_sum(A).numpy())\n",
    "reduceOnRows = reduce_sum(A, 0) \n",
    "print(\"Reducing on dimension 0 (rows):\", reduceOnRows.numpy(), reduceOnRows.numpy().shape) # [1,1,1] + [1,1,1] + [1,1,1]"
   ]
  },
  {
   "cell_type": "code",
   "execution_count": 28,
   "metadata": {
    "tags": []
   },
   "outputs": [
    {
     "output_type": "stream",
     "name": "stdout",
     "text": "<class 'str'>\n"
    }
   ],
   "source": [
    "# Importing external data with Tensorflow\n",
    "TRAIN_DATA_URL = \"https://storage.googleapis.com/tf-datasets/titanic/train.csv\"\n",
    "train_file_path = tf.keras.utils.get_file(\"train.csv\", TRAIN_DATA_URL)\n",
    "\n",
    "print(type(train_file_path))"
   ]
  },
  {
   "cell_type": "code",
   "execution_count": null,
   "metadata": {},
   "outputs": [],
   "source": []
  }
 ]
}