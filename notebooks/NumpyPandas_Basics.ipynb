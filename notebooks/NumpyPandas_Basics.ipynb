{
 "metadata": {
  "language_info": {
   "codemirror_mode": {
    "name": "ipython",
    "version": 3
   },
   "file_extension": ".py",
   "mimetype": "text/x-python",
   "name": "python",
   "nbconvert_exporter": "python",
   "pygments_lexer": "ipython3",
   "version": 3
  },
  "orig_nbformat": 2,
  "kernelspec": {
   "name": "python_defaultSpec_1597152776624",
   "display_name": "Python 3.8.5 64-bit"
  }
 },
 "nbformat": 4,
 "nbformat_minor": 2,
 "cells": [
  {
   "cell_type": "code",
   "execution_count": 16,
   "metadata": {},
   "outputs": [],
   "source": [
    "import numpy as np\n",
    "import pandas as pd"
   ]
  },
  {
   "cell_type": "code",
   "execution_count": 30,
   "metadata": {
    "tags": []
   },
   "outputs": [
    {
     "output_type": "stream",
     "name": "stdout",
     "text": "<class 'pandas.core.frame.DataFrame'> (10, 2)\n<class 'numpy.ndarray'> [[1 'a']\n [2 'b']\n [3 'c']\n [4 'a']\n [5 'b']\n [6 'c']\n [7 'a']\n [8 'b']\n [9 'c']\n [10 'a']]\n"
    }
   ],
   "source": [
    "# Load data from CSV\n",
    "oneToTen = pd.read_csv('../datasets/sampleCSV.csv')\n",
    "print(type(oneToTen), oneToTen.shape)\n",
    "oneToTenArray = np.array(oneToTen)\n",
    "print(type(oneToTenArray), oneToTenArray)"
   ]
  },
  {
   "cell_type": "code",
   "execution_count": 32,
   "metadata": {
    "tags": []
   },
   "outputs": [
    {
     "output_type": "stream",
     "name": "stdout",
     "text": "<class 'pandas.core.frame.DataFrame'> (21613, 21)\n[[7129300520 '20141013T000000' 221900.0 3 1.0 1180 5650 1.0 0 0 3 7\n  1180.0 0 1955 0 98178 47.5112 -122.257 1340 5650]\n [6414100192 '20141209T000000' 538000.0 3 2.25 2570 7242 2.0 0 0 3 7\n  2170.0 400 1951 1991 98125 47.721000000000004 -122.319 1690 7639]\n [5631500400 '20150225T000000' 180000.0 2 1.0 770 10000 1.0 0 0 3 6 770.0\n  0 1933 0 98028 47.7379 -122.23299999999999 2720 8062]\n [2487200875 '20141209T000000' 604000.0 4 3.0 1960 5000 1.0 0 0 5 7\n  1050.0 910 1965 0 98136 47.5208 -122.39299999999999 1360 5000]\n [1954400510 '20150218T000000' 510000.0 3 2.0 1680 8080 1.0 0 0 3 8\n  1680.0 0 1987 0 98074 47.6168 -122.045 1800 7503]\n [7237550310 '20140512T000000' 1225000.0 4 4.5 5420 101930 1.0 0 0 3 11\n  3890.0 1530 2001 0 98053 47.6561 -122.005 4760 101930]\n [1321400060 '20140627T000000' 257500.0 3 2.25 1715 6819 2.0 0 0 3 7\n  1715.0 0 1995 0 98003 47.3097 -122.32700000000001 2238 6819]\n [2008000270 '20150115T000000' 291850.0 3 1.5 1060 9711 1.0 0 0 3 7\n  1060.0 0 1963 0 98198 47.4095 -122.315 1650 9711]\n [2414600126 '20150415T000000' 229500.0 3 1.0 1780 7470 1.0 0 0 3 7\n  1050.0 730 1960 0 98146 47.5123 -122.337 1780 8113]\n [3793500160 '20150312T000000' 323000.0 3 2.5 1890 6560 2.0 0 0 3 7\n  1890.0 0 2003 0 98038 47.3684 -122.031 2390 7570]]\n"
    }
   ],
   "source": [
    "housing = pd.read_csv('../datasets/kc_house_data.csv')\n",
    "print(type(housing), housing)\n",
    "housing = np.array(housing)\n",
    "print(housing[:10].shape)"
   ]
  },
  {
   "cell_type": "code",
   "execution_count": null,
   "metadata": {},
   "outputs": [],
   "source": []
  }
 ]
}