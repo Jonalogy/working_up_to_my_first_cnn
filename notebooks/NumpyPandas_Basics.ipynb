{
 "metadata": {
  "language_info": {
   "codemirror_mode": {
    "name": "ipython",
    "version": 3
   },
   "file_extension": ".py",
   "mimetype": "text/x-python",
   "name": "python",
   "nbconvert_exporter": "python",
   "pygments_lexer": "ipython3",
   "version": 3
  },
  "orig_nbformat": 2,
  "kernelspec": {
   "name": "python_defaultSpec_1597152776624",
   "display_name": "Python 3.8.5 64-bit"
  }
 },
 "nbformat": 4,
 "nbformat_minor": 2,
 "cells": [
  {
   "cell_type": "code",
   "execution_count": 16,
   "metadata": {},
   "outputs": [],
   "source": [
    "import numpy as np\n",
    "import pandas as pd"
   ]
  },
  {
   "cell_type": "code",
   "execution_count": 35,
   "metadata": {
    "tags": []
   },
   "outputs": [
    {
     "output_type": "stream",
     "name": "stdout",
     "text": "column title 0    a\n1    b\n2    c\n3    a\n4    b\n5    c\n6    a\n7    b\n8    c\n9    a\nName: Boo, dtype: object\n<class 'numpy.ndarray'> [[1 'a']\n [2 'b']\n [3 'c']\n [4 'a']\n [5 'b']\n [6 'c']\n [7 'a']\n [8 'b']\n [9 'c']\n [10 'a']]\n"
    }
   ],
   "source": [
    "# Load data from CSV\n",
    "oneToTen = pd.read_csv('../datasets/sampleCSV.csv')\n",
    "# print(type(oneToTen), oneToTen.shape)\n",
    "print(\"column title\", oneToTen[\"Boo\"])\n",
    "oneToTenArray = np.array(oneToTen)\n",
    "print(type(oneToTenArray), oneToTenArray)"
   ]
  },
  {
   "cell_type": "code",
   "execution_count": 68,
   "metadata": {
    "tags": []
   },
   "outputs": [
    {
     "output_type": "stream",
     "name": "stdout",
     "text": "0    221900.0\n1    538000.0\n2    180000.0\n3    604000.0\nName: price, dtype: float64\n[ 25292  13712 -16608 ...   8885   6784  -2680]\n"
    }
   ],
   "source": [
    "# External data like CSV can be imported via numpy\n",
    "\n",
    "housing = pd.read_csv('../datasets/kc_house_data.csv')\n",
    "# print(type(housing), housing)\n",
    "# print(housing.loc[:3,\"date\"])\n",
    "\n",
    "print(housing.loc[:3,\"price\"])\n",
    "price = np.array(housing.loc[:, \"price\"], np.int16)\n",
    "print(price)\n"
   ]
  },
  {
   "cell_type": "code",
   "execution_count": null,
   "metadata": {},
   "outputs": [],
   "source": []
  }
 ]
}