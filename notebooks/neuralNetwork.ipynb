{
 "metadata": {
  "language_info": {
   "codemirror_mode": {
    "name": "ipython",
    "version": 3
   },
   "file_extension": ".py",
   "mimetype": "text/x-python",
   "name": "python",
   "nbconvert_exporter": "python",
   "pygments_lexer": "ipython3",
   "version": 3
  },
  "orig_nbformat": 2,
  "kernelspec": {
   "name": "python_defaultSpec_1597212920109",
   "display_name": "Python 3.8.5 64-bit"
  }
 },
 "nbformat": 4,
 "nbformat_minor": 2,
 "cells": [
  {
   "cell_type": "markdown",
   "metadata": {},
   "source": [
    "## A Simple Dense Layer\n",
    "Dense layer = one of the hidden layers in a neural network"
   ]
  },
  {
   "cell_type": "code",
   "execution_count": 5,
   "metadata": {},
   "outputs": [],
   "source": [
    "import tensorflow as tf"
   ]
  },
  {
   "cell_type": "markdown",
   "metadata": {},
   "source": [
    "### Using the low level apis of Tensorflow to manually create a dense layer"
   ]
  },
  {
   "cell_type": "code",
   "execution_count": 6,
   "metadata": {
    "tags": []
   },
   "outputs": [
    {
     "output_type": "stream",
     "name": "stdout",
     "text": "tf.Tensor([[0.5249792]], shape=(1, 1), dtype=float32)\n"
    }
   ],
   "source": [
    "# Define inputs (features), weights and bias\n",
    "inputs = tf.constant([[1, 35]], tf.float32)\n",
    "weights = tf.Variable([[-0.05], [-0.01]])\n",
    "bias = tf.Variable([0.5]) # This plays the similar role as an intercept in a regression model\n",
    "\n",
    "# To manually create a simple dense layer (Of a single perceptron in this case)\n",
    "\n",
    "# We first we multiply inputs (features) by the weights\n",
    "product = tf.matmul(inputs, weights) #; print(product.numpy())\n",
    "\n",
    "# Manually define a single dense layer\n",
    "denseManual = tf.keras.activations.sigmoid(product + bias)\n",
    "print(denseManual)"
   ]
  },
  {
   "cell_type": "markdown",
   "metadata": {},
   "source": [
    "### Using Tensorflow's high level api to create a dense layer"
   ]
  },
  {
   "cell_type": "code",
   "execution_count": 7,
   "metadata": {
    "tags": []
   },
   "outputs": [
    {
     "output_type": "stream",
     "name": "stdout",
     "text": "tf.Tensor(\n[[9.9881095e-01 1.8778170e-11 1.0000000e+00 3.7565529e-03 1.8374446e-01\n  1.0000000e+00 1.0000000e+00 9.5690469e-11 1.0000000e+00 8.7170690e-02]], shape=(1, 10), dtype=float32)\n"
    }
   ],
   "source": [
    "inputs = tf.constant([[1, 35]], tf.float32)\n",
    "\n",
    "denseTFLayer1 = tf.keras.layers.Dense(units=10, activation='sigmoid')(inputs) # 10 outgoing nodes, with sigmoid activation function\n",
    "print(denseTFLayer1)"
   ]
  },
  {
   "cell_type": "code",
   "execution_count": 8,
   "metadata": {},
   "outputs": [],
   "source": [
    "denseTFLayer2 = tf.keras.layers.Dense(units=5, activation='sigmoid')(denseTFLayer1)\n",
    "output = tf.keras.layers.Dense(units=1, activation='sigmoid')(denseTFLayer2)"
   ]
  },
  {
   "cell_type": "code",
   "execution_count": 9,
   "metadata": {
    "tags": []
   },
   "outputs": [
    {
     "output_type": "stream",
     "name": "stdout",
     "text": "tf.Tensor([[0.3814729]], shape=(1, 1), dtype=float32)\n"
    }
   ],
   "source": [
    "print(output)"
   ]
  },
  {
   "cell_type": "code",
   "execution_count": null,
   "metadata": {},
   "outputs": [],
   "source": []
  }
 ]
}