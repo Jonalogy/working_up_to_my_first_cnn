{
 "metadata": {
  "language_info": {
   "codemirror_mode": {
    "name": "ipython",
    "version": 3
   },
   "file_extension": ".py",
   "mimetype": "text/x-python",
   "name": "python",
   "nbconvert_exporter": "python",
   "pygments_lexer": "ipython3",
   "version": 3
  },
  "orig_nbformat": 2,
  "kernelspec": {
   "name": "python_defaultSpec_1597212920109",
   "display_name": "Python 3.8.5 64-bit"
  }
 },
 "nbformat": 4,
 "nbformat_minor": 2,
 "cells": [
  {
   "cell_type": "code",
   "execution_count": 12,
   "metadata": {},
   "outputs": [],
   "source": [
    "import tensorflow as tf, Variable, ones\n",
    "from IPython import display"
   ]
  },
  {
   "cell_type": "markdown",
   "metadata": {},
   "source": [
    "## A Simple Dense Layer\n",
    "Dense layer = one of the hidden layers in a neural network\n",
    "\n",
    "This notebook demonstrates creating a single dense layer\n",
    "![img](./simpleANN.png)"
   ]
  },
  {
   "cell_type": "markdown",
   "metadata": {},
   "source": [
    "# Building dense layer with the low level apis"
   ]
  },
  {
   "cell_type": "code",
   "execution_count": 52,
   "metadata": {
    "tags": []
   },
   "outputs": [
    {
     "output_type": "stream",
     "name": "stdout",
     "text": "borrower_features tf.Tensor([[ 2.  2. 43.]], shape=(1, 3), dtype=float32)\nproduct1 [[47. 47.]]\ndense1: [[1. 1.]]\n\n prediction: 0.9525741338729858\n\n actual: 1\n"
    }
   ],
   "source": [
    "# Defining borrow_features as features to predict if someone will apply for credit crad. Here there is only one example.\n",
    "borrower_features = tf.constant([[ 2,  2, 43]], tf.float32)\n",
    "\n",
    "bias1 = Variable(1.0)\n",
    "weights1 = Variable(tf.ones((3, 2)))\n",
    "print(\"borrower_features\", borrower_features)\n",
    "product1 = matmul(borrower_features, weights1)\n",
    "print(\"product1\", product1.numpy())\n",
    "dense1 = keras.activations.sigmoid(product1 + bias1)\n",
    "print(\"dense1:\", dense1.numpy())\n",
    "\n",
    "# Initialize bias2 and weights2\n",
    "bias2 = Variable(1.0)\n",
    "weights2 = Variable(ones((2, 1)))\n",
    "\n",
    "# Perform matrix multiplication of dense1 and weights2\n",
    "product2 = matmul(dense1, weights2)\n",
    "\n",
    "# Apply activation to product2 + bias2 and print the prediction\n",
    "prediction = keras.activations.sigmoid(product2 + bias2)\n",
    "print('\\n prediction: {}'.format(prediction.numpy()[0,0]))\n",
    "print('\\n actual: 1')\n",
    "\n",
    "# Take note that this is only a forward propagation. No back-propagation is involved yet\n"
   ]
  },
  {
   "cell_type": "code",
   "execution_count": 60,
   "metadata": {
    "tags": []
   },
   "outputs": [
    {
     "output_type": "stream",
     "name": "stdout",
     "text": "tf.Tensor(\n[[0.95257413]\n [0.95257413]\n [0.95257413]\n [0.95257413]\n [0.95257413]], shape=(5, 1), dtype=float32)\n"
    }
   ],
   "source": [
    "# Assuming now there are 5 examples provided\n",
    "# and 3 features are still used for the prediction\n",
    "\n",
    "borrower_features = tf.Variable([\n",
    "        [ 3.,  3., 23.],\n",
    "        [ 2.,  1., 24.],\n",
    "        [ 1.,  1., 49.],\n",
    "        [ 1.,  1., 49.],\n",
    "        [ 2.,  1., 29.]\n",
    "    ], tf.float32)\n",
    "\n",
    "bias1 = Variable(1.0)\n",
    "weights1 = Variable(tf.ones((3, 2)))\n",
    "products1 = matmul(borrower_features, weights1)\n",
    "dense1 = keras.activations.sigmoid(products1 + bias1)\n",
    "\n",
    "bias2 = Variable(1.0)\n",
    "weights2 = Variable(ones((2, 1)))\n",
    "products2 = matmul(dense1, weights2)\n",
    "dense2 = keras.activations.sigmoid(products2 + bias2)\n",
    "\n",
    "print(dense2) # Output should contain 5 predictions"
   ]
  },
  {
   "cell_type": "code",
   "execution_count": null,
   "metadata": {},
   "outputs": [],
   "source": []
  },
  {
   "cell_type": "code",
   "execution_count": 57,
   "metadata": {
    "tags": []
   },
   "outputs": [
    {
     "output_type": "stream",
     "name": "stdout",
     "text": "tf.Tensor([[0.5249792]], shape=(1, 1), dtype=float32)\n"
    }
   ],
   "source": [
    "# Define inputs (features), weights and bias\n",
    "inputs = tf.constant([[1, 35]], tf.float32)\n",
    "weights = tf.Variable([[-0.05], [-0.01]])\n",
    "bias = tf.Variable([0.5], tf.float32) # This plays the similar role as an intercept in a regression model\n",
    "\n",
    "# To manually create a simple dense layer (Of a single perceptron in this case)\n",
    "\n",
    "# We first we multiply inputs (features) by the weights\n",
    "product = tf.matmul(inputs, weights) #; print(product.numpy())\n",
    "\n",
    "# Manually define a single dense layer\n",
    "denseManual = tf.keras.activations.sigmoid(product + bias)\n",
    "print(denseManual)"
   ]
  },
  {
   "cell_type": "markdown",
   "metadata": {},
   "source": [
    "### Using Tensorflow's high level api to create a dense layer"
   ]
  },
  {
   "cell_type": "code",
   "execution_count": 20,
   "metadata": {
    "tags": []
   },
   "outputs": [
    {
     "output_type": "stream",
     "name": "stdout",
     "text": "tf.Tensor(\n[[2.4548173e-04 1.0000000e+00 9.9889177e-01 1.0000000e+00 2.1472573e-04\n  9.8511577e-01 1.9801770e-10 9.1243708e-01 3.9992587e-10 8.6853108e-10]], shape=(1, 10), dtype=float32)\n"
    }
   ],
   "source": [
    "inputs = tf.constant([[1, 35]], tf.float32)\n",
    "\n",
    "denseTFLayer1 = tf.keras.layers.Dense(units=10, activation='sigmoid')(inputs) # 10 outgoing nodes, with sigmoid activation function\n",
    "print(denseTFLayer1)"
   ]
  },
  {
   "cell_type": "code",
   "execution_count": 21,
   "metadata": {},
   "outputs": [],
   "source": [
    "denseTFLayer2 = tf.keras.layers.Dense(units=5, activation='sigmoid')(denseTFLayer1)\n",
    "output = tf.keras.layers.Dense(units=1, activation='sigmoid')(denseTFLayer2)"
   ]
  },
  {
   "cell_type": "code",
   "execution_count": 22,
   "metadata": {
    "tags": []
   },
   "outputs": [
    {
     "output_type": "stream",
     "name": "stdout",
     "text": "tf.Tensor([[0.48040682]], shape=(1, 1), dtype=float32)\n"
    }
   ],
   "source": [
    "print(output)"
   ]
  },
  {
   "cell_type": "code",
   "execution_count": null,
   "metadata": {},
   "outputs": [],
   "source": []
  }
 ]
}