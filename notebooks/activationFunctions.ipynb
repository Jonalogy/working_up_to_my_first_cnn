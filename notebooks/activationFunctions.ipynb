{
 "metadata": {
  "language_info": {
   "codemirror_mode": {
    "name": "ipython",
    "version": 3
   },
   "file_extension": ".py",
   "mimetype": "text/x-python",
   "name": "python",
   "nbconvert_exporter": "python",
   "pygments_lexer": "ipython3",
   "version": 3
  },
  "orig_nbformat": 2,
  "kernelspec": {
   "name": "python_defaultSpec_1597272505869",
   "display_name": "Python 3.8.5 64-bit"
  }
 },
 "nbformat": 4,
 "nbformat_minor": 2,
 "cells": [
  {
   "cell_type": "code",
   "execution_count": 1,
   "metadata": {},
   "outputs": [],
   "source": [
    "import tensorflow as tf\n",
    "from tensorflow import keras\n",
    "import pandas as pd"
   ]
  },
  {
   "cell_type": "markdown",
   "metadata": {},
   "source": [
    "# Activation function"
   ]
  },
  {
   "cell_type": "markdown",
   "metadata": {},
   "source": [
    "Assuming given a dataset of credit card holders, we want to predict the probability of him/her defaulting based on 3 input features: the size of the latest 3 credit card bills\n",
    "\n",
    "This is a binary classification problem because the user either defaults or not."
   ]
  },
  {
   "cell_type": "code",
   "execution_count": 2,
   "metadata": {
    "tags": []
   },
   "outputs": [],
   "source": [
    "dataset = pd.read_csv(\n",
    "        \"../datasets/credit_card_defaults.csv\",\n",
    "        usecols=lambda col: col in [\n",
    "            'BILL_AMT1', \"BILL_AMT2\", \"BILL_AMT3\", \"default.payment.next.month\"\n",
    "            ],\n",
    "        \n",
    "    )\n",
    "\n",
    "latest3Bills = dataset.loc[:, ['BILL_AMT1', 'BILL_AMT2', 'BILL_AMT3']]\n",
    "defaults = dataset.loc[:, ['default.payment.next.month']]"
   ]
  },
  {
   "cell_type": "code",
   "execution_count": 3,
   "metadata": {
    "tags": []
   },
   "outputs": [
    {
     "output_type": "stream",
     "name": "stdout",
     "text": "default.payment.next.month\n0                         0.0\n1                         0.0\n2                        -1.0\n3                        -1.0\n4                        -1.0\n"
    }
   ],
   "source": [
    "inputs = tf.constant(latest3Bills, tf.float32) #; print(inputs.shape)\n",
    "\n",
    "dense1 = keras.layers.Dense(3, activation=\"relu\")(inputs)\n",
    "dense2 = keras.layers.Dense(2, activation=\"relu\")(dense1)\n",
    "outputs = keras.layers.Dense(1, activation=\"sigmoid\")(dense2) # Using sigmoid here because it is a binary classification problem.\n",
    "\n",
    "# Print error for first five examples\n",
    "error = defaults[:5] - outputs.numpy()[:5]\n",
    "print(error)\n"
   ]
  },
  {
   "cell_type": "markdown",
   "metadata": {},
   "source": [
    "Note that the error is random because the above is only a single epoch of foward propagation"
   ]
  }
 ]
}