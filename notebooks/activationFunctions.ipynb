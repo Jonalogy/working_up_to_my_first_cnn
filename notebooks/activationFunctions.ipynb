{
 "metadata": {
  "language_info": {
   "codemirror_mode": {
    "name": "ipython",
    "version": 3
   },
   "file_extension": ".py",
   "mimetype": "text/x-python",
   "name": "python",
   "nbconvert_exporter": "python",
   "pygments_lexer": "ipython3",
   "version": 3
  },
  "orig_nbformat": 2,
  "kernelspec": {
   "name": "python_defaultSpec_1597282744391",
   "display_name": "Python 3.8.5 64-bit"
  }
 },
 "nbformat": 4,
 "nbformat_minor": 2,
 "cells": [
  {
   "cell_type": "code",
   "execution_count": 153,
   "metadata": {},
   "outputs": [],
   "source": [
    "import tensorflow as tf\n",
    "from tensorflow import keras\n",
    "import pandas as pd\n",
    "\n",
    "data_filepath = \"../datasets/credit_card_defaults.csv\""
   ]
  },
  {
   "cell_type": "markdown",
   "metadata": {},
   "source": [
    "# Activation function"
   ]
  },
  {
   "cell_type": "markdown",
   "metadata": {},
   "source": [
    "Assuming given a dataset of credit card holders, we want to predict the probability of him/her defaulting based on 3 input features: the size of the latest 3 credit card bills\n",
    "\n",
    "This is a binary classification problem because the user either defaults or not."
   ]
  },
  {
   "cell_type": "code",
   "execution_count": 154,
   "metadata": {
    "tags": []
   },
   "outputs": [
    {
     "output_type": "stream",
     "name": "stdout",
     "text": "[[1. ]\n [0.5]\n [1. ]\n ...\n [0.5]\n [0.5]\n [0.5]]\n   default.payment.next.month\n0                         0.0\n1                         0.5\n2                        -1.0\n3                        -0.5\n4                        -0.5\n"
    }
   ],
   "source": [
    "data_cols = [ 'BILL_AMT1', \"BILL_AMT2\", \"BILL_AMT3\", \"default.payment.next.month\" ]\n",
    "dataset = pd.read_csv(data_filepath, usecols=lambda col: col in data_cols)\n",
    "\n",
    "borrower_feature = dataset.loc[:, ['BILL_AMT1', 'BILL_AMT2', 'BILL_AMT3']]\n",
    "defaults = dataset.loc[:, ['default.payment.next.month']]\n",
    "\n",
    "inputs = tf.constant(latest3Bills, tf.float32) #; print(inputs.shape)\n",
    "\n",
    "dense1 = keras.layers.Dense(3, activation=\"relu\")(inputs)\n",
    "dense2 = keras.layers.Dense(2, activation=\"relu\")(dense1)\n",
    "outputs = keras.layers.Dense(1, activation=\"sigmoid\")(dense2) # Using sigmoid here because it is a binary classification problem.\n",
    "print(outputs.numpy())\n",
    "\n",
    "# Print error for first five examples\n",
    "error = defaults[:5] - outputs.numpy()[:5]\n",
    "print(error)\n"
   ]
  },
  {
   "cell_type": "markdown",
   "metadata": {},
   "source": [
    "Note: If you rerun the above, you'll notice that the calculated error is always different because the above is only a single epoch of foward propagation"
   ]
  },
  {
   "cell_type": "markdown",
   "metadata": {},
   "source": [
    "### A multiclass classification problem\n",
    "\n",
    "From the same credit card raw dataset, an example of a multiclass problem would be trying to predict the type of education, which has 6 types.\n",
    "\n",
    "_Notice that each output row sums to one. This is because a row contains the predicted class probabilities for one example._"
   ]
  },
  {
   "cell_type": "code",
   "execution_count": 180,
   "metadata": {
    "tags": []
   },
   "outputs": [
    {
     "output_type": "stream",
     "name": "stdout",
     "text": "(30000, 10)\n(30000, 8)\n(30000, 6)\nSum of a single row is 1.0000001\n"
    }
   ],
   "source": [
    "data_cols = ['LIMIT_BAL', 'AGE', \"PAY_0\", \"PAY_2\", \"PAY_3\", \"PAY_4\", \"BILL_AMT1\", \"BILL_AMT2\", \"BILL_AMT3\", \"BILL_AMT4\"]\n",
    "dataset = pd.read_csv(data_filepath, usecols=lambda col: col in data_cols)\n",
    "borrower_feature = tf.constant(dataset, tf.float32)\n",
    "\n",
    "dense1 = keras.layers.Dense(units=10, activation=\"sigmoid\")(borrower_feature) ; print(dense1.shape)\n",
    "dense2 = keras.layers.Dense(units=8, activation=\"relu\")(dense1) ; print(dense2.shape)\n",
    "\n",
    "# Notice that the number of units is now set to 6 because there 6 classifications for education\n",
    "outputs = keras.layers.Dense(units=6, activation='softmax')(dense2) ; print(outputs.shape)\n",
    "\n",
    "print(\"Sum of a single row is\", tf.reduce_sum(outputs.numpy()[0]).numpy())"
   ]
  },
  {
   "cell_type": "code",
   "execution_count": null,
   "metadata": {},
   "outputs": [],
   "source": []
  }
 ]
}