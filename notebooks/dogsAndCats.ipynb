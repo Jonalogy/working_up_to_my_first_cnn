{
 "metadata": {
  "language_info": {
   "codemirror_mode": {
    "name": "ipython",
    "version": 3
   },
   "file_extension": ".py",
   "mimetype": "text/x-python",
   "name": "python",
   "nbconvert_exporter": "python",
   "pygments_lexer": "ipython3",
   "version": 3
  },
  "orig_nbformat": 2,
  "kernelspec": {
   "name": "python_defaultSpec_1597364741901",
   "display_name": "Python 3.8.5 64-bit"
  }
 },
 "nbformat": 4,
 "nbformat_minor": 2,
 "cells": [
  {
   "cell_type": "markdown",
   "metadata": {},
   "source": [
    "Following this [crash course](https://towardsdatascience.com/convolutional-neural-networks-with-tensorflow-2d0d41382d32) here"
   ]
  },
  {
   "cell_type": "code",
   "execution_count": 64,
   "metadata": {
    "tags": []
   },
   "outputs": [
    {
     "output_type": "stream",
     "name": "stdout",
     "text": "Count of training cat images: 1000\nCount of training dog images: 1000\nCount of validation cat images: 500\nCount of validation dog images: 500\n"
    }
   ],
   "source": [
    "import os\n",
    "\n",
    "base_dir = os.path.abspath(\n",
    "    os.path.join(os.getcwd(), os.pardir, 'datasets/cats_and_dogs_filtered')\n",
    ")\n",
    "\n",
    "train_dir = os.path.join(base_dir, 'train')\n",
    "validation_dir = os.path.join(base_dir, 'validation')\n",
    "\n",
    "train_cats_dir = os.path.join(train_dir, 'cats')\n",
    "train_dogs_dir = os.path.join(train_dir, 'dogs')\n",
    "train_cats_fnames = os.listdir(train_cats_dir)\n",
    "train_dog_fnames = os.listdir(train_dogs_dir)\n",
    "\n",
    "validate_cats_dir = os.path.join(validation_dir, 'cats')\n",
    "validate_dogs_dir = os.path.join(validation_dir, 'dogs')\n",
    "validate_cats_fnames = os.listdir(validate_cats_dir)\n",
    "validate_dog_fnames = os.listdir(validate_dogs_dir)\n",
    "\n",
    "\n",
    "\n",
    "print(\"Count of training cat images:\", len(train_cats_fnames))\n",
    "print(\"Count of training dog images:\", len(train_dog_fnames))\n",
    "print(\"Count of validation cat images:\", len(validate_cats_fnames))\n",
    "print(\"Count of validation dog images:\", len(validate_dog_fnames))"
   ]
  },
  {
   "cell_type": "code",
   "execution_count": null,
   "metadata": {},
   "outputs": [],
   "source": []
  }
 ]
}